{
 "cells": [
  {
   "cell_type": "code",
   "execution_count": null,
   "id": "7e0fb78e",
   "metadata": {},
   "outputs": [],
   "source": [
    "import numpy as np\n",
    "import pandas as pd\n",
    "import matplotlib.pyplot as plt\n",
    "import seaborn as sns\n",
    "import itertools\n",
    "%matplotlib inline"
   ]
  },
  {
   "cell_type": "code",
   "execution_count": null,
   "id": "b26b96fc",
   "metadata": {},
   "outputs": [],
   "source": [
    "pip install pyforest"
   ]
  },
  {
   "cell_type": "code",
   "execution_count": null,
   "id": "8fe8046a",
   "metadata": {},
   "outputs": [],
   "source": [
    "from pyforest import *\n",
    "lazy_imports()"
   ]
  },
  {
   "cell_type": "code",
   "execution_count": null,
   "id": "0a372865",
   "metadata": {},
   "outputs": [],
   "source": [
    "data = pd.read_csv('reverse.csv')"
   ]
  },
  {
   "cell_type": "code",
   "execution_count": null,
   "id": "f73946b8",
   "metadata": {},
   "outputs": [],
   "source": [
    "# Prepare the data\n",
    "X = data[['Compressive Strength (MPa)']]\n",
    "y_wc = data['w/c']\n",
    "y_fc = data['f/c']\n",
    "y_cf = data['c/f']"
   ]
  },
  {
   "cell_type": "code",
   "execution_count": null,
   "id": "869e40bf",
   "metadata": {},
   "outputs": [],
   "source": [
    "from sklearn.model_selection import train_test_split, cross_val_score, GridSearchCV\n",
    "from sklearn.ensemble import RandomForestRegressor\n",
    "from sklearn.metrics import mean_squared_error, r2_score"
   ]
  },
  {
   "cell_type": "code",
   "execution_count": null,
   "id": "434ec263",
   "metadata": {},
   "outputs": [],
   "source": [
    "# Split the data for water-cement ratio prediction\n",
    "X_train_wc, X_test_wc, y_train_wc, y_test_wc = train_test_split(X, y_wc, test_size=0.2, random_state=42)\n",
    "# Split the data for fine-coarse aggregate ratio prediction\n",
    "X_train_fc, X_test_fc, y_train_fc, y_test_fc = train_test_split(X, y_fc, test_size=0.2, random_state=42)\n",
    "# Split the data for cement-fine aggregate ratio prediction\n",
    "X_train_cf, X_test_cf, y_train_cf, y_test_cf = train_test_split(X, y_cf, test_size=0.2, random_state=42)"
   ]
  },
  {
   "cell_type": "code",
   "execution_count": null,
   "id": "a574f9e6",
   "metadata": {},
   "outputs": [],
   "source": [
    "# Initialize the Random Forest models\n",
    "rf_wc = RandomForestRegressor(n_estimators=100, random_state=42)\n",
    "rf_fc = RandomForestRegressor(n_estimators=100, random_state=42)\n",
    "rf_cf = RandomForestRegressor(n_estimators=100, random_state=42)"
   ]
  },
  {
   "cell_type": "code",
   "execution_count": null,
   "id": "9e637a58",
   "metadata": {},
   "outputs": [],
   "source": [
    "# Train the models\n",
    "rf_wc.fit(X_train_wc, y_train_wc)\n",
    "rf_fc.fit(X_train_fc, y_train_fc)\n",
    "rf_cf.fit(X_train_cf, y_train_cf)"
   ]
  },
  {
   "cell_type": "code",
   "execution_count": null,
   "id": "a37925e5",
   "metadata": {},
   "outputs": [],
   "source": [
    "# Make predictions and evaluate\n",
    "wc_predictions = rf_wc.predict(X_test_wc)\n",
    "fc_predictions = rf_fc.predict(X_test_fc)\n",
    "cf_predictions = rf_cf.predict(X_test_cf)"
   ]
  },
  {
   "cell_type": "code",
   "execution_count": null,
   "id": "52c09006",
   "metadata": {},
   "outputs": [],
   "source": [
    "# Calculate and print MSE for evaluations\n",
    "wc_mse = mean_squared_error(y_test_wc, wc_predictions)\n",
    "fc_mse = mean_squared_error(y_test_fc, fc_predictions)\n",
    "cf_mse = mean_squared_error(y_test_cf, cf_predictions)\n",
    "wc_initial_rmse = np.sqrt(mean_squared_error(y_test_wc, wc_predictions))\n",
    "fc_initial_rmse = np.sqrt(mean_squared_error(y_test_fc, fc_predictions))\n",
    "cf_initial_rmse = np.sqrt(mean_squared_error(y_test_cf, cf_predictions))"
   ]
  },
  {
   "cell_type": "code",
   "execution_count": null,
   "id": "467c9e4f",
   "metadata": {},
   "outputs": [],
   "source": [
    "print(f'Water-Cement Ratio Prediction MSE: {wc_mse}')\n",
    "print(f'Fine to Coarse Aggregate Ratio Prediction MSE: {fc_mse}')\n",
    "print(f'Cement to Fine Aggregate Ratio Prediction MSE: {cf_mse}')\n",
    "print(f'RMSE for water/cement = {wc_initial_rmse}')\n",
    "print(f'RMSE for fine/coarse = {fc_initial_rmse}')\n",
    "print(f'RMSE for cement/fine = {cf_initial_rmse}')"
   ]
  },
  {
   "cell_type": "code",
   "execution_count": null,
   "id": "f5a8e2a6",
   "metadata": {},
   "outputs": [],
   "source": [
    "# Function to predict ratios and calculate concrete components based on compressive strength\n",
    "def predict_and_calculate_ratios(compressive_strength):\n",
    "    input_data = pd.DataFrame({'Compressive Strength (MPa)': [compressive_strength]})\n",
    "    predicted_wc = rf_wc.predict(input_data)[0]\n",
    "    predicted_fc = rf_fc.predict(input_data)[0]\n",
    "    predicted_cf = rf_cf.predict(input_data)[0]\n",
    "\n",
    "    # Calculate the components based on the predicted ratios\n",
    "    cement = round(1, 3)  # Assume cement as 1 unit\n",
    "    water = round(predicted_wc * cement, 3) # water = w/c ratio * cement\n",
    "    fine_aggregate = round(cement / predicted_cf, 3)  # fine_aggregate = cement / (c/f)\n",
    "    coarse_aggregate = round(fine_aggregate / predicted_fc, 3) # coarse_aggregate = fine_aggregate / (f/c)\n",
    "\n",
    "    return (water, cement, fine_aggregate, coarse_aggregate)\n",
    "\n",
    "# Manual input of compressive strength\n",
    "# compressive_strength = float(input(\"Enter the compressive strength in MPa: \"))\n",
    "# water, cement, fine_aggregate, coarse_aggregate = predict_and_calculate_ratios(compressive_strength)\n",
    "\n",
    "# print(f\"Calculated Water : Cement : Fine Aggregate : Coarse Aggregate =   {water:.3f},  {cement:.3f},  {fine_aggregate:.3f},  {coarse_aggregate:.3f}\")"
   ]
  },
  {
   "cell_type": "code",
   "execution_count": null,
   "id": "dc612263",
   "metadata": {},
   "outputs": [],
   "source": [
    "#saving best model\n",
    "import pickle\n",
    "savePath = r'models\\reverse.sav'\n",
    "pickle.dump(rf_wc,rf_fc,rf_cf,open(savePath, 'wb'))"
   ]
  }
 ],
 "metadata": {
  "kernelspec": {
   "display_name": "Python 3 (ipykernel)",
   "language": "python",
   "name": "python3"
  },
  "language_info": {
   "codemirror_mode": {
    "name": "ipython",
    "version": 3
   },
   "file_extension": ".py",
   "mimetype": "text/x-python",
   "name": "python",
   "nbconvert_exporter": "python",
   "pygments_lexer": "ipython3",
   "version": "3.11.5"
  }
 },
 "nbformat": 4,
 "nbformat_minor": 5
}
